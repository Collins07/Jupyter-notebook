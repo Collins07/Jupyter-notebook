{
 "cells": [
  {
   "cell_type": "code",
   "execution_count": null,
   "id": "5c4142ab",
   "metadata": {},
   "outputs": [],
   "source": [
    "#guessing game"
   ]
  },
  {
   "cell_type": "code",
   "execution_count": null,
   "id": "07e93ad7",
   "metadata": {},
   "outputs": [],
   "source": [
    "from random import randint\n",
    "from IPython.display import clear_output\n",
    "guessed = False\n",
    "number = randint(0,100)\n",
    "guesses = 0\n",
    "while not guessed:\n",
    "    ans = input(\"Try to guess the number am thinking of!\")\n",
    "    #use tab to indent\n",
    "    guesses += 1\n",
    "    clear_output()\n",
    "    if int(ans) == number:\n",
    "        print(\"Congrats! You have it guessed correctly\")\n",
    "        #use tab twice to indent twice\n",
    "        print(\"It took you {} guesses!\". format(guesses))\n",
    "        break\n",
    "    elif int(ans)> number:\n",
    "        print(\"The number is lower than what you guessed\")\n",
    "    elif int(ans)< number:\n",
    "        print(\"The number is higher than what you guessed\")\n",
    "        "
   ]
  }
 ],
 "metadata": {
  "kernelspec": {
   "display_name": "Python 3.9.12 ('base')",
   "language": "python",
   "name": "python3"
  },
  "language_info": {
   "codemirror_mode": {
    "name": "ipython",
    "version": 3
   },
   "file_extension": ".py",
   "mimetype": "text/x-python",
   "name": "python",
   "nbconvert_exporter": "python",
   "pygments_lexer": "ipython3",
   "version": "3.9.12"
  },
  "vscode": {
   "interpreter": {
    "hash": "ad2bdc8ecc057115af97d19610ffacc2b4e99fae6737bb82f5d7fb13d2f2c186"
   }
  }
 },
 "nbformat": 4,
 "nbformat_minor": 5
}
